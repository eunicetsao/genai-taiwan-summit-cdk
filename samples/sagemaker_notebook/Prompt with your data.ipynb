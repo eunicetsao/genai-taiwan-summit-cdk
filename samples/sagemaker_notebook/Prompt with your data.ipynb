{
 "cells": [
  {
   "cell_type": "markdown",
   "id": "7ea36fe8",
   "metadata": {},
   "source": [
    "## Set up your endpoint name\n",
    "\n",
    "Please either copy your own endpoint name or follow the instructions provided by the workshop instructor."
   ]
  },
  {
   "cell_type": "code",
   "execution_count": 172,
   "id": "0e6dc864",
   "metadata": {},
   "outputs": [],
   "source": [
    "ENDPOINT_NAME = 'huggingface-pytorch-tgi-inference-2023-07-16-05-23-44-657'"
   ]
  },
  {
   "cell_type": "code",
   "execution_count": 185,
   "id": "3c0724a4",
   "metadata": {},
   "outputs": [],
   "source": [
    "import boto3\n",
    "import json\n",
    "\n",
    "def query_endpoint_and_parse_response(payload_dict, endpoint_name):\n",
    "    encoded_json = json.dumps(payload_dict).encode(\"utf-8\")\n",
    "    client = boto3.client(\"runtime.sagemaker\")\n",
    "    response = client.invoke_endpoint(\n",
    "        EndpointName=endpoint_name, ContentType=\"application/json\", Body=encoded_json\n",
    "    )\n",
    "   \n",
    "    return json.loads(response['Body'].read().decode())[0]['generated_text']\n",
    "\n"
   ]
  },
  {
   "cell_type": "markdown",
   "id": "b59e9387",
   "metadata": {},
   "source": [
    "## Set up model parameters\n"
   ]
  },
  {
   "cell_type": "code",
   "execution_count": 188,
   "id": "aa7be8e1",
   "metadata": {},
   "outputs": [],
   "source": [
    "parameters = {\n",
    "    \"max_new_tokens\": 200,\n",
    "    \"top_k\": 5,\n",
    "    \"top_p\": .15,\n",
    "    \"do_sample\": True,\n",
    "    \"temperature\": 0.01\n",
    "}\n"
   ]
  },
  {
   "cell_type": "markdown",
   "id": "f5590589",
   "metadata": {},
   "source": [
    "## Prompt with layman inputs"
   ]
  },
  {
   "cell_type": "code",
   "execution_count": 189,
   "id": "10819721",
   "metadata": {},
   "outputs": [],
   "source": [
    "prompt_data =\"\"\"\n",
    "I have a table called patient with fields ID, AGE, WEIGHT, HEIGHT. \n",
    "Write me a SQL Query which will return the entry with the highest age\n",
    "\n",
    "\"\"\"#If you'd like to try your own prompt, edit this parameter!"
   ]
  },
  {
   "cell_type": "code",
   "execution_count": 190,
   "id": "8955f878",
   "metadata": {},
   "outputs": [],
   "source": [
    "payload = {\"inputs\": prompt_data, \"parameters\":parameters}\n",
    "generated_texts = query_endpoint_and_parse_response(payload, ENDPOINT_NAME)"
   ]
  },
  {
   "cell_type": "code",
   "execution_count": 191,
   "id": "80fd60ab",
   "metadata": {},
   "outputs": [
    {
     "name": "stdout",
     "output_type": "stream",
     "text": [
      "Result: SELECT ID FROM patient WHERE AGE > (SELECT max(AGE) FROM patient)\n"
     ]
    }
   ],
   "source": [
    "print(f\"Result: {generated_texts}\")"
   ]
  },
  {
   "cell_type": "markdown",
   "id": "764e3cbf",
   "metadata": {},
   "source": [
    "## Prompt with Table Schema"
   ]
  },
  {
   "cell_type": "code",
   "execution_count": 213,
   "id": "d81e016c",
   "metadata": {},
   "outputs": [],
   "source": [
    "import json\n",
    "import boto3\n",
    "sagemaker_client = boto3.client('sagemaker-runtime')\n",
    "payload = \"\"\"You are an export of MySQL Database.Your tasks is to generate a SQL query\n",
    "\n",
    "Pay attention to use only the column names that you can see in the schema description. \n",
    "Be careful to not query for columns that do not exist. Also, pay attention to which column is in which table.\n",
    "\n",
    "Your Table sales schema as follows:\n",
    "\n",
    "CREATE EXTERNAL TABLE sales (\n",
    "\ttransaction_date DATE COMMENT 'Transaction date',\n",
    "\tuser_id STRING COMMENT 'The user who make the purchase',\n",
    "\tproduct STRING COMMENT product name, e.g \"Fruits\", \"Ice cream\", \"Milk\",\n",
    "\tprice DOUBLE COMMENT 'The price of the product'\n",
    ")\n",
    "\n",
    "Question: What is total sale amount of Fruits\n",
    "SQLQuery:\n",
    "\n",
    "\"\"\"\n"
   ]
  },
  {
   "cell_type": "code",
   "execution_count": 214,
   "id": "4933c8f8",
   "metadata": {},
   "outputs": [],
   "source": [
    "payload = {\"inputs\": payload, \"parameters\":parameters}\n",
    "generated_texts = query_endpoint_and_parse_response(payload, ENDPOINT_NAME)"
   ]
  },
  {
   "cell_type": "code",
   "execution_count": 215,
   "id": "68db8a83",
   "metadata": {},
   "outputs": [
    {
     "name": "stdout",
     "output_type": "stream",
     "text": [
      "Result: SELECT sum(price) FROM sales WHERE product = 'Fruits'\n"
     ]
    }
   ],
   "source": [
    "print(f\"Result: {generated_texts}\")"
   ]
  },
  {
   "cell_type": "markdown",
   "id": "02798b5a",
   "metadata": {},
   "source": [
    "Another example"
   ]
  },
  {
   "cell_type": "code",
   "execution_count": 222,
   "id": "eeffd41f",
   "metadata": {},
   "outputs": [],
   "source": [
    "payload =\"\"\"\n",
    "You are an export of MySQL Database.Your tasks is to generate a SQL query\n",
    "\n",
    "Pay attention to use only the column names that you can see in the schema description. \n",
    "Be careful to not query for columns that do not exist. Also, pay attention to which column is in which table.\n",
    "\n",
    "Your Table sales schema as follows:\n",
    "\n",
    "CREATE EXTERNAL TABLE sales (\n",
    "\ttransaction_date DATE COMMENT 'Transaction date',\n",
    "\tuser_id STRING COMMENT 'The user who make the purchase',\n",
    "\tproduct STRING COMMENT product name, e.g \"Fruits\", \"Ice cream\", \"Milk\",\n",
    "\tprice DOUBLE COMMENT 'The price of the product'\n",
    ")\n",
    "\n",
    "Question: What is total sales of \"Fruits\" on 2022-10-05\n",
    "SQLQuery:\n",
    "\"\"\""
   ]
  },
  {
   "cell_type": "code",
   "execution_count": 223,
   "id": "5edffb87",
   "metadata": {},
   "outputs": [],
   "source": [
    "payload = {\"inputs\": payload, \"parameters\":parameters}\n",
    "generated_texts = query_endpoint_and_parse_response(payload, ENDPOINT_NAME)"
   ]
  },
  {
   "cell_type": "code",
   "execution_count": 224,
   "id": "1cb118f9",
   "metadata": {},
   "outputs": [
    {
     "name": "stdout",
     "output_type": "stream",
     "text": [
      "Result: SELECT total_sales FROM sales WHERE product = \"Fruits\" AND transaction_date = \"202210-05\"\n"
     ]
    }
   ],
   "source": [
    "print(f\"Result: {generated_texts}\")"
   ]
  },
  {
   "cell_type": "code",
   "execution_count": null,
   "id": "ecbba8aa",
   "metadata": {},
   "outputs": [],
   "source": []
  }
 ],
 "metadata": {
  "kernelspec": {
   "display_name": "conda_python3",
   "language": "python",
   "name": "conda_python3"
  },
  "language_info": {
   "codemirror_mode": {
    "name": "ipython",
    "version": 3
   },
   "file_extension": ".py",
   "mimetype": "text/x-python",
   "name": "python",
   "nbconvert_exporter": "python",
   "pygments_lexer": "ipython3",
   "version": "3.10.10"
  }
 },
 "nbformat": 4,
 "nbformat_minor": 5
}
