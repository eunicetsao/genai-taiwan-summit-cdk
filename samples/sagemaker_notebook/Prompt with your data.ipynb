{
 "cells": [
  {
   "cell_type": "markdown",
   "id": "b85b8495",
   "metadata": {},
   "source": [
    "## Set up your endpoint name\n",
    "\n",
    "Please either copy your own endpoint name or follow the instructions provided by the workshop instructor."
   ]
  },
  {
   "cell_type": "code",
   "execution_count": 1,
   "id": "0e6dc864",
   "metadata": {},
   "outputs": [],
   "source": [
    "ENDPOINT_NAME = 'huggingface-pytorch-tgi-inference-2023-07-20-02-45-33-447'"
   ]
  },
  {
   "cell_type": "code",
   "execution_count": 2,
   "id": "b295ba56",
   "metadata": {},
   "outputs": [],
   "source": [
    "import boto3\n",
    "import json\n",
    "\n",
    "def query_endpoint_and_parse_response(payload_dict, endpoint_name):\n",
    "    encoded_json = json.dumps(payload_dict).encode(\"utf-8\")\n",
    "    client = boto3.client(\"runtime.sagemaker\")\n",
    "    response = client.invoke_endpoint(\n",
    "        EndpointName=endpoint_name, ContentType=\"application/json\", Body=encoded_json\n",
    "    )\n",
    "   \n",
    "    return json.loads(response['Body'].read().decode())[0]['generated_text']\n",
    "\n"
   ]
  },
  {
   "cell_type": "markdown",
   "id": "6610df93",
   "metadata": {},
   "source": [
    "## Set up model parameters\n",
    "\n",
    "\n",
    "The following parameters are available for controlling text generation using the GenerationConfig class:\n",
    "\n",
    "- do_sample (bool, optional, defaults to False): Determines whether to use sampling or greedy decoding.\n",
    "- temperature (float, optional, defaults to 1.0): Modulates the next token probabilities.\n",
    "- max_new_tokens (int, optional): Sets the maximum number of tokens to generate, excluding those in the prompt.\n",
    "- top_k (int, optional, defaults to 50): Sets the number of highest probability vocabulary tokens to keep using top-k filtering.\n",
    "- top_p (float, optional, defaults to 1.0): When set to a float less than 1, only the smallest set of most probable tokens with probabilities that add up to top_p or higher are kept for generation.\n",
    "\n",
    "For a complete list of available parameters and their descriptions, refer to the GenerationConfig class documentation at https://huggingface.co/docs/transformers/v4.30.0/main_classes/text_generation."
   ]
  },
  {
   "cell_type": "code",
   "execution_count": 3,
   "id": "52b20838",
   "metadata": {},
   "outputs": [],
   "source": [
    "parameters = {\n",
    "    \"max_new_tokens\": 200,\n",
    "    \"top_k\": 5,\n",
    "    \"top_p\": .15,\n",
    "    \"do_sample\": True,\n",
    "    \"temperature\": 0.01\n",
    "}\n"
   ]
  },
  {
   "cell_type": "markdown",
   "id": "55f2e041",
   "metadata": {},
   "source": [
    "## Prompt with layman inputs"
   ]
  },
  {
   "cell_type": "code",
   "execution_count": 4,
   "id": "fd8e959b",
   "metadata": {},
   "outputs": [],
   "source": [
    "prompt_data =\"\"\"\n",
    "I have a table called patient with fields ID, AGE, WEIGHT, HEIGHT. \n",
    "Write me a SQL Query which will return the entry with the highest age\n",
    "\n",
    "\"\"\"#If you'd like to try your own prompt, edit this parameter!"
   ]
  },
  {
   "cell_type": "code",
   "execution_count": 5,
   "id": "025bcde0",
   "metadata": {},
   "outputs": [],
   "source": [
    "payload = {\"inputs\": prompt_data, \"parameters\":parameters}\n",
    "generated_texts = query_endpoint_and_parse_response(payload, ENDPOINT_NAME)"
   ]
  },
  {
   "cell_type": "code",
   "execution_count": 6,
   "id": "f3a322fb",
   "metadata": {},
   "outputs": [
    {
     "name": "stdout",
     "output_type": "stream",
     "text": [
      "Result: SELECT ID FROM patient WHERE AGE > (SELECT max(AGE) FROM patient)\n"
     ]
    }
   ],
   "source": [
    "print(f\"Result: {generated_texts}\")"
   ]
  },
  {
   "cell_type": "markdown",
   "id": "9b2db092",
   "metadata": {},
   "source": [
    "## Prompt with Table Schema"
   ]
  },
  {
   "cell_type": "code",
   "execution_count": 7,
   "id": "d81e016c",
   "metadata": {},
   "outputs": [],
   "source": [
    "import json\n",
    "import boto3\n",
    "sagemaker_client = boto3.client('sagemaker-runtime')\n",
    "payload = \"\"\"You are an export of Presto Database.Your tasks is to generate a SQL query\n",
    "\n",
    "Pay attention to use only the column names that you can see in the schema description. \n",
    "Be careful to not query for columns that do not exist. Also, pay attention to which column is in which table.\n",
    "\n",
    "Your Table sales schema as follows:\n",
    "\n",
    "CREATE EXTERNAL TABLE sales (\n",
    "\ttransaction_date DATE COMMENT 'Transaction date',\n",
    "\tuser_id STRING COMMENT 'The user who make the purchase',\n",
    "\tproduct STRING COMMENT product name, e.g \"Fruits\", \"Ice cream\", \"Milk\",\n",
    "\tprice DOUBLE COMMENT 'The price of the product'\n",
    ")\n",
    "\n",
    "Question: What is total sale amount of Fruits\n",
    "SQLQuery:\n",
    "\n",
    "\"\"\"\n"
   ]
  },
  {
   "cell_type": "code",
   "execution_count": 8,
   "id": "e91f7795",
   "metadata": {},
   "outputs": [],
   "source": [
    "payload = {\"inputs\": payload, \"parameters\":parameters}\n",
    "generated_texts = query_endpoint_and_parse_response(payload, ENDPOINT_NAME)"
   ]
  },
  {
   "cell_type": "code",
   "execution_count": 9,
   "id": "68db8a83",
   "metadata": {},
   "outputs": [
    {
     "name": "stdout",
     "output_type": "stream",
     "text": [
      "Result: SELECT sum(price) FROM sales WHERE product = 'Fruits'\n"
     ]
    }
   ],
   "source": [
    "print(f\"Result: {generated_texts}\")"
   ]
  },
  {
   "cell_type": "markdown",
   "id": "1843ff96",
   "metadata": {},
   "source": [
    "Another example\n",
    "\n",
    "Can we join a table?"
   ]
  },
  {
   "cell_type": "code",
   "execution_count": 58,
   "id": "eeffd41f",
   "metadata": {},
   "outputs": [],
   "source": [
    "payload =\"\"\"\n",
    "You are an export of MySQL Database.Your tasks is to generate a SQL query\n",
    "\n",
    "Pay attention to use only the column names that you can see in the schema description. \n",
    "Be careful to not query for columns that do not exist. Also, pay attention to which column is in which table.\n",
    "\n",
    "Your Table sales schema as follows:\n",
    "\n",
    "CREATE EXTERNAL TABLE sales (\n",
    "    transaction_date DATE COMMENT 'the transaction date in the format yyyy-mm-dd'\n",
    "\tuser_id STRING COMMENT 'The user who make the purchase',\n",
    "\tproduct STRING COMMENT product name, e.g \"Fruits\", \"Ice cream\", \"Milk\",\n",
    "\tsales_amount DOUBLE COMMENT 'The price of the product'\n",
    ")\n",
    "\n",
    "Your Table users schema as follows\n",
    "\n",
    "CREATE EXTERNAL TABLE users (\n",
    "\tuser_id STRING COMMENT 'user id',\n",
    "\tname STRING COMMENT User name\n",
    ")\n",
    "\n",
    "Question: What is total purchase done by \"John\"\n",
    "SQLQuery:\n",
    "\"\"\""
   ]
  },
  {
   "cell_type": "code",
   "execution_count": 59,
   "id": "5edffb87",
   "metadata": {},
   "outputs": [],
   "source": [
    "payload = {\"inputs\": payload, \"parameters\":parameters}\n",
    "generated_texts = query_endpoint_and_parse_response(payload, ENDPOINT_NAME)"
   ]
  },
  {
   "cell_type": "code",
   "execution_count": 60,
   "id": "01ec5892",
   "metadata": {},
   "outputs": [
    {
     "name": "stdout",
     "output_type": "stream",
     "text": [
      "Result: SELECT sum(sales_amount) FROM sales AS t1 JOIN users AS t2 ON t1.user_id = t2.user_id WHERE t2.name = \"John\"\n"
     ]
    }
   ],
   "source": [
    "print(f\"Result: {generated_texts}\")"
   ]
  },
  {
   "cell_type": "code",
   "execution_count": null,
   "id": "22a40e81",
   "metadata": {},
   "outputs": [],
   "source": []
  }
 ],
 "metadata": {
  "kernelspec": {
   "display_name": "conda_python3",
   "language": "python",
   "name": "conda_python3"
  },
  "language_info": {
   "codemirror_mode": {
    "name": "ipython",
    "version": 3
   },
   "file_extension": ".py",
   "mimetype": "text/x-python",
   "name": "python",
   "nbconvert_exporter": "python",
   "pygments_lexer": "ipython3",
   "version": "3.10.10"
  }
 },
 "nbformat": 4,
 "nbformat_minor": 5
}
