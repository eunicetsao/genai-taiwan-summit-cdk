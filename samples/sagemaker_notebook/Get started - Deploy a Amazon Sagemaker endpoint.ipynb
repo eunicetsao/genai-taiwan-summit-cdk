{
 "cells": [
  {
   "cell_type": "markdown",
   "id": "fbb02b45",
   "metadata": {},
   "source": [
    "# Set up a Large Lanugae Model"
   ]
  },
  {
   "cell_type": "code",
   "execution_count": null,
   "id": "674c4f24",
   "metadata": {},
   "outputs": [],
   "source": [
    "import sagemaker\n",
    "import boto3\n",
    "sess = sagemaker.Session()\n",
    "# sagemaker session bucket -> used for uploading data, models and logs\n",
    "# sagemaker will automatically create this bucket if it not exists\n",
    "sagemaker_session_bucket=None\n",
    "if sagemaker_session_bucket is None and sess is not None:\n",
    "    # set to default bucket if a bucket name is not given\n",
    "    sagemaker_session_bucket = sess.default_bucket()\n",
    "\n",
    "try:\n",
    "    role = sagemaker.get_execution_role()\n",
    "except ValueError:\n",
    "    iam = boto3.client('iam')\n",
    "    role = iam.get_role(RoleName='sagemaker_execution_role')['Role']['Arn']\n",
    "\n",
    "sess = sagemaker.Session(default_bucket=sagemaker_session_bucket)\n",
    "\n",
    "print(f\"sagemaker role arn: {role}\")\n",
    "print(f\"sagemaker bucket: {sess.default_bucket()}\")\n",
    "print(f\"sagemaker session region: {sess.boto_region_name}\")\n"
   ]
  },
  {
   "cell_type": "markdown",
   "id": "c09e049f",
   "metadata": {},
   "source": [
    "# Deploy a sagemaker endpoint for Flan T5"
   ]
  },
  {
   "cell_type": "markdown",
   "id": "bd5b931c",
   "metadata": {},
   "source": [
    "## Write a inference file"
   ]
  },
  {
   "cell_type": "code",
   "execution_count": null,
   "id": "09186cd3",
   "metadata": {},
   "outputs": [],
   "source": [
    "import boto3\n",
    "import json\n",
    "from sagemaker.huggingface import HuggingFaceModel, get_huggingface_llm_image_uri\n",
    "\n",
    "# Hub Model configuration. https://huggingface.co/models\n",
    "hub = {\n",
    "\t'HF_MODEL_ID':'google/flan-t5-xl',\n",
    "\t'SM_NUM_GPUS': json.dumps(1)\n",
    "}\n",
    "\n",
    "# create Hugging Face Model Class\n",
    "huggingface_model = HuggingFaceModel(\n",
    "\timage_uri=get_huggingface_llm_image_uri(\"huggingface\",version=\"0.8.2\"),\n",
    "\tenv=hub,\n",
    "\trole=role, \n",
    ")\n",
    "\n",
    "# deploy model to SageMaker Inference\n",
    "predictor = huggingface_model.deploy(\n",
    "\tinitial_instance_count=1,\n",
    "\tinstance_type=\"ml.g5.2xlarge\",\n",
    "\tcontainer_startup_health_check_timeout=300,\n",
    "  )\n",
    "  "
   ]
  },
  {
   "cell_type": "code",
   "execution_count": null,
   "id": "951de258",
   "metadata": {},
   "outputs": [],
   "source": [
    "ENDPOINT_NAME = predictor.endpoint_name\n",
    "ENDPOINT_NAME"
   ]
  },
  {
   "cell_type": "markdown",
   "id": "4d5157a4",
   "metadata": {},
   "source": [
    "## Test your endpoint"
   ]
  },
  {
   "cell_type": "code",
   "execution_count": null,
   "id": "e67c847a",
   "metadata": {},
   "outputs": [],
   "source": [
    "import json\n",
    "import boto3\n",
    "sagemaker_client = boto3.client('sagemaker-runtime')\n",
    "payload = \"\"\"Summarize the following text:\n",
    "deployment so you can scale to thousands of ML models in production. SageMaker Pipelines comes with a Python SDK that connects to SageMaker Studio so you can take advantage of a visual interface to build each step of the workflow. Then using a single API, you can connect each step to create a complete workflow. SageMaker Pipelines takes care of managing data between steps, packaging the code recipes, and orchestrating their execution, reducing months of coding to a few hours. Every time a workflow executes, a complete record of the data processed and actions taken is kept so data scientists and ML developers can quickly debug problems.\n",
    "\"\"\"\n",
    "\n",
    "response = sagemaker_client.invoke_endpoint(EndpointName=ENDPOINT_NAME,\n",
    "                                            ContentType='application/json',\n",
    "                                            Body= json.dumps({\"inputs\": payload}))\n",
    "result = json.loads(response['Body'].read().decode())"
   ]
  },
  {
   "cell_type": "code",
   "execution_count": null,
   "id": "0a5abc1b",
   "metadata": {},
   "outputs": [],
   "source": [
    "result"
   ]
  },
  {
   "cell_type": "code",
   "execution_count": null,
   "id": "5b2be283",
   "metadata": {},
   "outputs": [],
   "source": []
  }
 ],
 "metadata": {
  "kernelspec": {
   "display_name": "conda_python3",
   "language": "python",
   "name": "conda_python3"
  },
  "language_info": {
   "codemirror_mode": {
    "name": "ipython",
    "version": 3
   },
   "file_extension": ".py",
   "mimetype": "text/x-python",
   "name": "python",
   "nbconvert_exporter": "python",
   "pygments_lexer": "ipython3",
   "version": "3.10.10"
  }
 },
 "nbformat": 4,
 "nbformat_minor": 5
}
